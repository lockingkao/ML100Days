{
 "cells": [
  {
   "cell_type": "markdown",
   "metadata": {},
   "source": [
    "## [作業目標]\n",
    "了解機器學習適合應用的領域與範疇。"
   ]
  },
  {
   "cell_type": "markdown",
   "metadata": {},
   "source": [
    "## [作業重點]\n",
    "透過瞭解機器學習的運作方式，找出非常適用機器學習應用的領域及其原因"
   ]
  },
  {
   "cell_type": "markdown",
   "metadata": {},
   "source": [
    "## 作業\n",
    "請找出一個你認為機器學習可以發光發熱的領域並闡述原因? "
   ]
  },
  {
   "cell_type": "markdown",
   "metadata": {},
   "source": [
    "### Ans:\n",
    "\n",
    "我認為自然語言處裡在機器學習可以發光發熱!\n",
    "\n",
    "因為像我本身是在中央大學自然語言處理實驗室的研究生，\n",
    "\n",
    "研究的主題是文本分類。\n",
    "\n",
    "也接觸了不少自然語言處理相關的task。\n",
    "\n",
    "成熟的技術像是機器翻譯，文本翻譯等。\n",
    "\n",
    "但想還有很多像是文本分類、情感分析、錯誤字分類等任務的表現都還沒有非常好。\n",
    "\n",
    "而像有些成熟的技術甚至機器的performance更超越人類的表現!\n"
   ]
  },
  {
   "cell_type": "code",
   "execution_count": null,
   "metadata": {},
   "outputs": [],
   "source": []
  }
 ],
 "metadata": {
  "kernelspec": {
   "display_name": "Python 3",
   "language": "python",
   "name": "python3"
  },
  "language_info": {
   "codemirror_mode": {
    "name": "ipython",
    "version": 3
   },
   "file_extension": ".py",
   "mimetype": "text/x-python",
   "name": "python",
   "nbconvert_exporter": "python",
   "pygments_lexer": "ipython3",
   "version": "3.7.3"
  }
 },
 "nbformat": 4,
 "nbformat_minor": 2
}
